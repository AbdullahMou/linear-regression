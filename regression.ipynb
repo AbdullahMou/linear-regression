{
 "cells": [
  {
   "cell_type": "code",
   "execution_count": 41,
   "metadata": {},
   "outputs": [],
   "source": [
    "import pandas as pd\n",
    "import numpy as np\n",
    "import matplotlib.pyplot as plt\n",
    "from sklearn.linear_model import LinearRegression\n",
    "from sklearn.model_selection import train_test_split\n",
    "df=pd.read_csv('CarPrice_Assignment.csv')\n",
    "df=df.sort_values(by=['price'])"
   ]
  },
  {
   "cell_type": "code",
   "execution_count": 42,
   "metadata": {},
   "outputs": [
    {
     "name": "stdout",
     "output_type": "stream",
     "text": [
      "<class 'pandas.core.frame.DataFrame'>\n",
      "Int64Index: 205 entries, 138 to 74\n",
      "Data columns (total 26 columns):\n",
      " #   Column            Non-Null Count  Dtype  \n",
      "---  ------            --------------  -----  \n",
      " 0   car_ID            205 non-null    int64  \n",
      " 1   symboling         205 non-null    int64  \n",
      " 2   CarName           205 non-null    object \n",
      " 3   fueltype          205 non-null    object \n",
      " 4   aspiration        205 non-null    object \n",
      " 5   doornumber        205 non-null    object \n",
      " 6   carbody           205 non-null    object \n",
      " 7   drivewheel        205 non-null    object \n",
      " 8   enginelocation    205 non-null    object \n",
      " 9   wheelbase         205 non-null    float64\n",
      " 10  carlength         205 non-null    float64\n",
      " 11  carwidth          205 non-null    float64\n",
      " 12  carheight         205 non-null    float64\n",
      " 13  curbweight        205 non-null    int64  \n",
      " 14  enginetype        205 non-null    object \n",
      " 15  cylindernumber    205 non-null    object \n",
      " 16  enginesize        205 non-null    int64  \n",
      " 17  fuelsystem        205 non-null    object \n",
      " 18  boreratio         205 non-null    float64\n",
      " 19  stroke            205 non-null    float64\n",
      " 20  compressionratio  205 non-null    float64\n",
      " 21  horsepower        205 non-null    int64  \n",
      " 22  peakrpm           205 non-null    int64  \n",
      " 23  citympg           205 non-null    int64  \n",
      " 24  highwaympg        205 non-null    int64  \n",
      " 25  price             205 non-null    float64\n",
      "dtypes: float64(8), int64(8), object(10)\n",
      "memory usage: 43.2+ KB\n"
     ]
    }
   ],
   "source": [
    "df.info()"
   ]
  },
  {
   "cell_type": "code",
   "execution_count": 43,
   "metadata": {},
   "outputs": [
    {
     "data": {
      "text/html": [
       "<div>\n",
       "<style scoped>\n",
       "    .dataframe tbody tr th:only-of-type {\n",
       "        vertical-align: middle;\n",
       "    }\n",
       "\n",
       "    .dataframe tbody tr th {\n",
       "        vertical-align: top;\n",
       "    }\n",
       "\n",
       "    .dataframe thead th {\n",
       "        text-align: right;\n",
       "    }\n",
       "</style>\n",
       "<table border=\"1\" class=\"dataframe\">\n",
       "  <thead>\n",
       "    <tr style=\"text-align: right;\">\n",
       "      <th></th>\n",
       "      <th>car_ID</th>\n",
       "      <th>symboling</th>\n",
       "      <th>CarName</th>\n",
       "      <th>fueltype</th>\n",
       "      <th>aspiration</th>\n",
       "      <th>doornumber</th>\n",
       "      <th>carbody</th>\n",
       "      <th>drivewheel</th>\n",
       "      <th>enginelocation</th>\n",
       "      <th>wheelbase</th>\n",
       "      <th>...</th>\n",
       "      <th>enginesize</th>\n",
       "      <th>fuelsystem</th>\n",
       "      <th>boreratio</th>\n",
       "      <th>stroke</th>\n",
       "      <th>compressionratio</th>\n",
       "      <th>horsepower</th>\n",
       "      <th>peakrpm</th>\n",
       "      <th>citympg</th>\n",
       "      <th>highwaympg</th>\n",
       "      <th>price</th>\n",
       "    </tr>\n",
       "  </thead>\n",
       "  <tbody>\n",
       "    <tr>\n",
       "      <th>138</th>\n",
       "      <td>139</td>\n",
       "      <td>2</td>\n",
       "      <td>subaru</td>\n",
       "      <td>gas</td>\n",
       "      <td>std</td>\n",
       "      <td>two</td>\n",
       "      <td>hatchback</td>\n",
       "      <td>fwd</td>\n",
       "      <td>front</td>\n",
       "      <td>93.7</td>\n",
       "      <td>...</td>\n",
       "      <td>97</td>\n",
       "      <td>2bbl</td>\n",
       "      <td>3.62</td>\n",
       "      <td>2.36</td>\n",
       "      <td>9.0</td>\n",
       "      <td>69</td>\n",
       "      <td>4900</td>\n",
       "      <td>31</td>\n",
       "      <td>36</td>\n",
       "      <td>5118.0</td>\n",
       "    </tr>\n",
       "    <tr>\n",
       "      <th>18</th>\n",
       "      <td>19</td>\n",
       "      <td>2</td>\n",
       "      <td>chevrolet impala</td>\n",
       "      <td>gas</td>\n",
       "      <td>std</td>\n",
       "      <td>two</td>\n",
       "      <td>hatchback</td>\n",
       "      <td>fwd</td>\n",
       "      <td>front</td>\n",
       "      <td>88.4</td>\n",
       "      <td>...</td>\n",
       "      <td>61</td>\n",
       "      <td>2bbl</td>\n",
       "      <td>2.91</td>\n",
       "      <td>3.03</td>\n",
       "      <td>9.5</td>\n",
       "      <td>48</td>\n",
       "      <td>5100</td>\n",
       "      <td>47</td>\n",
       "      <td>53</td>\n",
       "      <td>5151.0</td>\n",
       "    </tr>\n",
       "    <tr>\n",
       "      <th>50</th>\n",
       "      <td>51</td>\n",
       "      <td>1</td>\n",
       "      <td>maxda rx3</td>\n",
       "      <td>gas</td>\n",
       "      <td>std</td>\n",
       "      <td>two</td>\n",
       "      <td>hatchback</td>\n",
       "      <td>fwd</td>\n",
       "      <td>front</td>\n",
       "      <td>93.1</td>\n",
       "      <td>...</td>\n",
       "      <td>91</td>\n",
       "      <td>2bbl</td>\n",
       "      <td>3.03</td>\n",
       "      <td>3.15</td>\n",
       "      <td>9.0</td>\n",
       "      <td>68</td>\n",
       "      <td>5000</td>\n",
       "      <td>30</td>\n",
       "      <td>31</td>\n",
       "      <td>5195.0</td>\n",
       "    </tr>\n",
       "    <tr>\n",
       "      <th>150</th>\n",
       "      <td>151</td>\n",
       "      <td>1</td>\n",
       "      <td>toyota corona mark ii</td>\n",
       "      <td>gas</td>\n",
       "      <td>std</td>\n",
       "      <td>two</td>\n",
       "      <td>hatchback</td>\n",
       "      <td>fwd</td>\n",
       "      <td>front</td>\n",
       "      <td>95.7</td>\n",
       "      <td>...</td>\n",
       "      <td>92</td>\n",
       "      <td>2bbl</td>\n",
       "      <td>3.05</td>\n",
       "      <td>3.03</td>\n",
       "      <td>9.0</td>\n",
       "      <td>62</td>\n",
       "      <td>4800</td>\n",
       "      <td>35</td>\n",
       "      <td>39</td>\n",
       "      <td>5348.0</td>\n",
       "    </tr>\n",
       "    <tr>\n",
       "      <th>76</th>\n",
       "      <td>77</td>\n",
       "      <td>2</td>\n",
       "      <td>mitsubishi mirage</td>\n",
       "      <td>gas</td>\n",
       "      <td>std</td>\n",
       "      <td>two</td>\n",
       "      <td>hatchback</td>\n",
       "      <td>fwd</td>\n",
       "      <td>front</td>\n",
       "      <td>93.7</td>\n",
       "      <td>...</td>\n",
       "      <td>92</td>\n",
       "      <td>2bbl</td>\n",
       "      <td>2.97</td>\n",
       "      <td>3.23</td>\n",
       "      <td>9.4</td>\n",
       "      <td>68</td>\n",
       "      <td>5500</td>\n",
       "      <td>37</td>\n",
       "      <td>41</td>\n",
       "      <td>5389.0</td>\n",
       "    </tr>\n",
       "    <tr>\n",
       "      <th>...</th>\n",
       "      <td>...</td>\n",
       "      <td>...</td>\n",
       "      <td>...</td>\n",
       "      <td>...</td>\n",
       "      <td>...</td>\n",
       "      <td>...</td>\n",
       "      <td>...</td>\n",
       "      <td>...</td>\n",
       "      <td>...</td>\n",
       "      <td>...</td>\n",
       "      <td>...</td>\n",
       "      <td>...</td>\n",
       "      <td>...</td>\n",
       "      <td>...</td>\n",
       "      <td>...</td>\n",
       "      <td>...</td>\n",
       "      <td>...</td>\n",
       "      <td>...</td>\n",
       "      <td>...</td>\n",
       "      <td>...</td>\n",
       "      <td>...</td>\n",
       "    </tr>\n",
       "    <tr>\n",
       "      <th>17</th>\n",
       "      <td>18</td>\n",
       "      <td>0</td>\n",
       "      <td>bmw x3</td>\n",
       "      <td>gas</td>\n",
       "      <td>std</td>\n",
       "      <td>four</td>\n",
       "      <td>sedan</td>\n",
       "      <td>rwd</td>\n",
       "      <td>front</td>\n",
       "      <td>110.0</td>\n",
       "      <td>...</td>\n",
       "      <td>209</td>\n",
       "      <td>mpfi</td>\n",
       "      <td>3.62</td>\n",
       "      <td>3.39</td>\n",
       "      <td>8.0</td>\n",
       "      <td>182</td>\n",
       "      <td>5400</td>\n",
       "      <td>15</td>\n",
       "      <td>20</td>\n",
       "      <td>36880.0</td>\n",
       "    </tr>\n",
       "    <tr>\n",
       "      <th>128</th>\n",
       "      <td>129</td>\n",
       "      <td>3</td>\n",
       "      <td>porsche boxter</td>\n",
       "      <td>gas</td>\n",
       "      <td>std</td>\n",
       "      <td>two</td>\n",
       "      <td>convertible</td>\n",
       "      <td>rwd</td>\n",
       "      <td>rear</td>\n",
       "      <td>89.5</td>\n",
       "      <td>...</td>\n",
       "      <td>194</td>\n",
       "      <td>mpfi</td>\n",
       "      <td>3.74</td>\n",
       "      <td>2.90</td>\n",
       "      <td>9.5</td>\n",
       "      <td>207</td>\n",
       "      <td>5900</td>\n",
       "      <td>17</td>\n",
       "      <td>25</td>\n",
       "      <td>37028.0</td>\n",
       "    </tr>\n",
       "    <tr>\n",
       "      <th>73</th>\n",
       "      <td>74</td>\n",
       "      <td>0</td>\n",
       "      <td>buick century special</td>\n",
       "      <td>gas</td>\n",
       "      <td>std</td>\n",
       "      <td>four</td>\n",
       "      <td>sedan</td>\n",
       "      <td>rwd</td>\n",
       "      <td>front</td>\n",
       "      <td>120.9</td>\n",
       "      <td>...</td>\n",
       "      <td>308</td>\n",
       "      <td>mpfi</td>\n",
       "      <td>3.80</td>\n",
       "      <td>3.35</td>\n",
       "      <td>8.0</td>\n",
       "      <td>184</td>\n",
       "      <td>4500</td>\n",
       "      <td>14</td>\n",
       "      <td>16</td>\n",
       "      <td>40960.0</td>\n",
       "    </tr>\n",
       "    <tr>\n",
       "      <th>16</th>\n",
       "      <td>17</td>\n",
       "      <td>0</td>\n",
       "      <td>bmw x5</td>\n",
       "      <td>gas</td>\n",
       "      <td>std</td>\n",
       "      <td>two</td>\n",
       "      <td>sedan</td>\n",
       "      <td>rwd</td>\n",
       "      <td>front</td>\n",
       "      <td>103.5</td>\n",
       "      <td>...</td>\n",
       "      <td>209</td>\n",
       "      <td>mpfi</td>\n",
       "      <td>3.62</td>\n",
       "      <td>3.39</td>\n",
       "      <td>8.0</td>\n",
       "      <td>182</td>\n",
       "      <td>5400</td>\n",
       "      <td>16</td>\n",
       "      <td>22</td>\n",
       "      <td>41315.0</td>\n",
       "    </tr>\n",
       "    <tr>\n",
       "      <th>74</th>\n",
       "      <td>75</td>\n",
       "      <td>1</td>\n",
       "      <td>buick regal sport coupe (turbo)</td>\n",
       "      <td>gas</td>\n",
       "      <td>std</td>\n",
       "      <td>two</td>\n",
       "      <td>hardtop</td>\n",
       "      <td>rwd</td>\n",
       "      <td>front</td>\n",
       "      <td>112.0</td>\n",
       "      <td>...</td>\n",
       "      <td>304</td>\n",
       "      <td>mpfi</td>\n",
       "      <td>3.80</td>\n",
       "      <td>3.35</td>\n",
       "      <td>8.0</td>\n",
       "      <td>184</td>\n",
       "      <td>4500</td>\n",
       "      <td>14</td>\n",
       "      <td>16</td>\n",
       "      <td>45400.0</td>\n",
       "    </tr>\n",
       "  </tbody>\n",
       "</table>\n",
       "<p>205 rows × 26 columns</p>\n",
       "</div>"
      ],
      "text/plain": [
       "     car_ID  symboling                          CarName fueltype aspiration  \\\n",
       "138     139          2                           subaru      gas        std   \n",
       "18       19          2                 chevrolet impala      gas        std   \n",
       "50       51          1                        maxda rx3      gas        std   \n",
       "150     151          1            toyota corona mark ii      gas        std   \n",
       "76       77          2                mitsubishi mirage      gas        std   \n",
       "..      ...        ...                              ...      ...        ...   \n",
       "17       18          0                           bmw x3      gas        std   \n",
       "128     129          3                   porsche boxter      gas        std   \n",
       "73       74          0            buick century special      gas        std   \n",
       "16       17          0                           bmw x5      gas        std   \n",
       "74       75          1  buick regal sport coupe (turbo)      gas        std   \n",
       "\n",
       "    doornumber      carbody drivewheel enginelocation  wheelbase  ...  \\\n",
       "138        two    hatchback        fwd          front       93.7  ...   \n",
       "18         two    hatchback        fwd          front       88.4  ...   \n",
       "50         two    hatchback        fwd          front       93.1  ...   \n",
       "150        two    hatchback        fwd          front       95.7  ...   \n",
       "76         two    hatchback        fwd          front       93.7  ...   \n",
       "..         ...          ...        ...            ...        ...  ...   \n",
       "17        four        sedan        rwd          front      110.0  ...   \n",
       "128        two  convertible        rwd           rear       89.5  ...   \n",
       "73        four        sedan        rwd          front      120.9  ...   \n",
       "16         two        sedan        rwd          front      103.5  ...   \n",
       "74         two      hardtop        rwd          front      112.0  ...   \n",
       "\n",
       "     enginesize  fuelsystem  boreratio  stroke compressionratio horsepower  \\\n",
       "138          97        2bbl       3.62    2.36              9.0         69   \n",
       "18           61        2bbl       2.91    3.03              9.5         48   \n",
       "50           91        2bbl       3.03    3.15              9.0         68   \n",
       "150          92        2bbl       3.05    3.03              9.0         62   \n",
       "76           92        2bbl       2.97    3.23              9.4         68   \n",
       "..          ...         ...        ...     ...              ...        ...   \n",
       "17          209        mpfi       3.62    3.39              8.0        182   \n",
       "128         194        mpfi       3.74    2.90              9.5        207   \n",
       "73          308        mpfi       3.80    3.35              8.0        184   \n",
       "16          209        mpfi       3.62    3.39              8.0        182   \n",
       "74          304        mpfi       3.80    3.35              8.0        184   \n",
       "\n",
       "     peakrpm citympg  highwaympg    price  \n",
       "138     4900      31          36   5118.0  \n",
       "18      5100      47          53   5151.0  \n",
       "50      5000      30          31   5195.0  \n",
       "150     4800      35          39   5348.0  \n",
       "76      5500      37          41   5389.0  \n",
       "..       ...     ...         ...      ...  \n",
       "17      5400      15          20  36880.0  \n",
       "128     5900      17          25  37028.0  \n",
       "73      4500      14          16  40960.0  \n",
       "16      5400      16          22  41315.0  \n",
       "74      4500      14          16  45400.0  \n",
       "\n",
       "[205 rows x 26 columns]"
      ]
     },
     "execution_count": 43,
     "metadata": {},
     "output_type": "execute_result"
    }
   ],
   "source": [
    "df"
   ]
  },
  {
   "cell_type": "code",
   "execution_count": 44,
   "metadata": {},
   "outputs": [
    {
     "data": {
      "text/plain": [
       "<bound method NDFrame.describe of      car_ID  symboling                          CarName fueltype aspiration  \\\n",
       "138     139          2                           subaru      gas        std   \n",
       "18       19          2                 chevrolet impala      gas        std   \n",
       "50       51          1                        maxda rx3      gas        std   \n",
       "150     151          1            toyota corona mark ii      gas        std   \n",
       "76       77          2                mitsubishi mirage      gas        std   \n",
       "..      ...        ...                              ...      ...        ...   \n",
       "17       18          0                           bmw x3      gas        std   \n",
       "128     129          3                   porsche boxter      gas        std   \n",
       "73       74          0            buick century special      gas        std   \n",
       "16       17          0                           bmw x5      gas        std   \n",
       "74       75          1  buick regal sport coupe (turbo)      gas        std   \n",
       "\n",
       "    doornumber      carbody drivewheel enginelocation  wheelbase  ...  \\\n",
       "138        two    hatchback        fwd          front       93.7  ...   \n",
       "18         two    hatchback        fwd          front       88.4  ...   \n",
       "50         two    hatchback        fwd          front       93.1  ...   \n",
       "150        two    hatchback        fwd          front       95.7  ...   \n",
       "76         two    hatchback        fwd          front       93.7  ...   \n",
       "..         ...          ...        ...            ...        ...  ...   \n",
       "17        four        sedan        rwd          front      110.0  ...   \n",
       "128        two  convertible        rwd           rear       89.5  ...   \n",
       "73        four        sedan        rwd          front      120.9  ...   \n",
       "16         two        sedan        rwd          front      103.5  ...   \n",
       "74         two      hardtop        rwd          front      112.0  ...   \n",
       "\n",
       "     enginesize  fuelsystem  boreratio  stroke compressionratio horsepower  \\\n",
       "138          97        2bbl       3.62    2.36              9.0         69   \n",
       "18           61        2bbl       2.91    3.03              9.5         48   \n",
       "50           91        2bbl       3.03    3.15              9.0         68   \n",
       "150          92        2bbl       3.05    3.03              9.0         62   \n",
       "76           92        2bbl       2.97    3.23              9.4         68   \n",
       "..          ...         ...        ...     ...              ...        ...   \n",
       "17          209        mpfi       3.62    3.39              8.0        182   \n",
       "128         194        mpfi       3.74    2.90              9.5        207   \n",
       "73          308        mpfi       3.80    3.35              8.0        184   \n",
       "16          209        mpfi       3.62    3.39              8.0        182   \n",
       "74          304        mpfi       3.80    3.35              8.0        184   \n",
       "\n",
       "     peakrpm citympg  highwaympg    price  \n",
       "138     4900      31          36   5118.0  \n",
       "18      5100      47          53   5151.0  \n",
       "50      5000      30          31   5195.0  \n",
       "150     4800      35          39   5348.0  \n",
       "76      5500      37          41   5389.0  \n",
       "..       ...     ...         ...      ...  \n",
       "17      5400      15          20  36880.0  \n",
       "128     5900      17          25  37028.0  \n",
       "73      4500      14          16  40960.0  \n",
       "16      5400      16          22  41315.0  \n",
       "74      4500      14          16  45400.0  \n",
       "\n",
       "[205 rows x 26 columns]>"
      ]
     },
     "execution_count": 44,
     "metadata": {},
     "output_type": "execute_result"
    }
   ],
   "source": [
    "df.describe"
   ]
  },
  {
   "cell_type": "markdown",
   "metadata": {},
   "source": [
    "# enginesize"
   ]
  },
  {
   "cell_type": "code",
   "execution_count": 45,
   "metadata": {},
   "outputs": [],
   "source": [
    "price=df['price'].values\n",
    "price= price.reshape(-1,1)\n",
    "enginesize = df['enginesize'].values\n",
    "price_train, price_test, enginesize_train, enginesize_test = train_test_split(price, enginesize, train_size=0.8, test_size=0.2, random_state=100)\n"
   ]
  },
  {
   "cell_type": "code",
   "execution_count": 52,
   "metadata": {},
   "outputs": [
    {
     "data": {
      "image/png": "[encoded data removed]",
      "text/plain": [
       "<Figure size 432x288 with 1 Axes>"
      ]
     },
     "metadata": {
      "needs_background": "light"
     },
     "output_type": "display_data"
    }
   ],
   "source": [
    "%matplotlib inline\n",
    "plt.scatter(price_train, enginesize_train, color='blue')\n",
    "plt.scatter(price_test, enginesize_test, color='y')\n",
    "# plt.plot(price_train, enginesize_predict, color='r')\n",
    "plt.xlabel('price')\n",
    "plt.ylabel('enginesize')\n",
    "plt.title('price/enginesize')\n",
    "plt.show()"
   ]
  },
  {
   "cell_type": "code",
   "execution_count": 47,
   "metadata": {},
   "outputs": [
    {
     "data": {
      "text/plain": [
       "array([108, 164,  97, 136, 156, 109, 258, 110, 181, 122, 209, 152, 122,\n",
       "        91,  92, 122, 120, 181,  98, 108, 194, 234, 110, 121, 152, 122,\n",
       "       156, 109,  90,  98,  90,  90, 146, 194, 109, 121,  70, 134, 146,\n",
       "       130, 122])"
      ]
     },
     "execution_count": 47,
     "metadata": {},
     "output_type": "execute_result"
    }
   ],
   "source": [
    "model = LinearRegression()\n",
    "model.fit(price_train, enginesize_train)\n",
    "enginesize_predict = model.predict(price_test)\n",
    "enginesize_test"
   ]
  },
  {
   "cell_type": "code",
   "execution_count": 48,
   "metadata": {},
   "outputs": [
    {
     "data": {
      "text/plain": [
       "array([144.73423127, 181.16145392, 102.15633883, 148.47708072,\n",
       "       134.93130329, 103.10993104, 233.53750638, 106.20910575,\n",
       "       151.7622059 , 114.55303763, 239.87889461, 130.12043056,\n",
       "       117.65221234,  99.29556218, 105.88965235,  97.35976998,\n",
       "       143.32768275, 128.39919661, 103.31495337, 108.05907464,\n",
       "       226.28066961, 231.1821336 , 125.75774617, 120.53682879,\n",
       "       149.62139138, 112.88425126, 124.89474522, 104.54031937,\n",
       "        93.73611956, 100.31590585, 106.55001496,  94.4417778 ,\n",
       "       117.43288613, 240.58455285, 119.32099871, 152.8159253 ,\n",
       "       129.09531893, 150.57498359, 109.99486684, 151.86233308,\n",
       "       106.20910575])"
      ]
     },
     "execution_count": 48,
     "metadata": {},
     "output_type": "execute_result"
    }
   ],
   "source": [
    "enginesize_predict"
   ]
  },
  {
   "cell_type": "code",
   "execution_count": 49,
   "metadata": {},
   "outputs": [
    {
     "name": "stdout",
     "output_type": "stream",
     "text": [
      "Testing Accuracy: 78.09339503884817%\n"
     ]
    }
   ],
   "source": [
    "print(f'Testing Accuracy: {model.score(price_train, enginesize_train)*100}%')"
   ]
  },
  {
   "cell_type": "code",
   "execution_count": 50,
   "metadata": {},
   "outputs": [
    {
     "data": {
      "image/png": "[encoded data removed]",
      "text/plain": [
       "<Figure size 432x288 with 1 Axes>"
      ]
     },
     "metadata": {
      "needs_background": "light"
     },
     "output_type": "display_data"
    }
   ],
   "source": [
    "plt.scatter(price_train,enginesize_train,color='b')\n",
    "plt.plot(price_test,enginesize_test,color='r')\n",
    "plt.xlabel('price')\n",
    "plt.ylabel('enginesize')\n",
    "plt.title('price/enginesize')\n",
    "plt.show()"
   ]
  },
  {
   "cell_type": "markdown",
   "metadata": {},
   "source": [
    "**enginesize** is totaly effects on price"
   ]
  },
  {
   "cell_type": "markdown",
   "metadata": {},
   "source": [
    "# horsepower"
   ]
  },
  {
   "cell_type": "code",
   "execution_count": 51,
   "metadata": {},
   "outputs": [
    {
     "data": {
      "image/png": "[encoded data removed]",
      "text/plain": [
       "<Figure size 432x288 with 1 Axes>"
      ]
     },
     "metadata": {
      "needs_background": "light"
     },
     "output_type": "display_data"
    }
   ],
   "source": [
    "horsepower = df.horsepower.values\n",
    "price_train, price_test, horsepower_train, horsepower_test = train_test_split(price, horsepower, train_size=0.8, test_size=0.2, random_state=100)\n",
    "model.fit(price_train, horsepower_train)\n",
    "horsepower_predict = model.predict(price_test)\n",
    "%matplotlib inline\n",
    "plt.scatter(price_train, horsepower_train, color='b')\n",
    "plt.scatter(price_test, horsepower_test, color='y')\n",
    "# plt.plot(price_train, horsepower_predict, color='r')\n",
    "plt.xlabel('price')\n",
    "plt.ylabel('horsepower')\n",
    "plt.title('price/horsepower')\n",
    "plt.show()"
   ]
  },
  {
   "cell_type": "code",
   "execution_count": null,
   "metadata": {},
   "outputs": [],
   "source": [
    "**peakrpm** have no effects on price at all"
   ]
  },
  {
   "cell_type": "code",
   "execution_count": 104,
   "metadata": {},
   "outputs": [
    {
     "name": "stdout",
     "output_type": "stream",
     "text": [
      "Testing Accuracy : 56.77948781394308 %\n"
     ]
    }
   ],
   "source": [
    "print(f'Testing Accuracy : {model.score(price_test, horsepower_test)*100} %')"
   ]
  },
  {
   "cell_type": "markdown",
   "metadata": {},
   "source": [
    "**horsepower** have some effects on price"
   ]
  },
  {
   "cell_type": "markdown",
   "metadata": {},
   "source": [
    "# peak rpm"
   ]
  },
  {
   "cell_type": "code",
   "execution_count": 110,
   "metadata": {},
   "outputs": [
    {
     "data": {
      "image/png": "[encoded data removed]",
      "text/plain": [
       "<Figure size 432x288 with 1 Axes>"
      ]
     },
     "metadata": {
      "needs_background": "light"
     },
     "output_type": "display_data"
    }
   ],
   "source": [
    "peakrpm = df.peakrpm.values\n",
    "price_train, price_test, peakrpm_train, peakrpm_test = train_test_split(price, peakrpm, train_size=0.8, test_size=0.2, random_state=100)\n",
    "model.fit(price_train, peakrpm_train)\n",
    "peakrpm_predict = model.predict(price_test)\n",
    "%matplotlib inline\n",
    "plt.scatter(price_train,peakrpm_train, color='b')\n",
    "plt.scatter(price_test, peakrpm_test, color='y')\n",
    "# plt.plot(price_train, peakrpm_predict, color='r')\n",
    "plt.xlabel('price')\n",
    "plt.ylabel('peakrpm')\n",
    "plt.title('price/peakrpm')\n",
    "plt.show()"
   ]
  },
  {
   "cell_type": "markdown",
   "metadata": {},
   "source": [
    "**peakrpm** have no effects on price at all"
   ]
  },
  {
   "cell_type": "code",
   "execution_count": null,
   "metadata": {},
   "outputs": [],
   "source": []
  }
 ],
 "metadata": {
  "kernelspec": {
   "display_name": "Python 3",
   "language": "python",
   "name": "python3"
  },
  "language_info": {
   "codemirror_mode": {
    "name": "ipython",
    "version": 3
   },
   "file_extension": ".py",
   "mimetype": "text/x-python",
   "name": "python",
   "nbconvert_exporter": "python",
   "pygments_lexer": "ipython3",
   "version": "3.9.0"
  }
 },
 "nbformat": 4,
 "nbformat_minor": 4
}
